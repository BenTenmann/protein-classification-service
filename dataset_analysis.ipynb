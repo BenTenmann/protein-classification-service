{
 "cells": [
  {
   "cell_type": "markdown",
   "id": "5d3faa04-9fac-4031-a57e-494f580c4ad9",
   "metadata": {},
   "source": [
    "# Dataset Analysis\n",
    "\n",
    "In this notebook, I intend to get a birds-eye view of the dataset in question: `Pfam seed random split`.\n",
    "\n",
    "Protein family classification is the task of assigning a set of family domain IDs to a peptide. A protein domain is a section of the protein's sequence which performs a specific function. In this dataset, each example is an isolated domain with its associated family ID.\n",
    "\n",
    "A good example for a protein containing multiple domains is the superfamily of G-protein coupled receptors, which are a diverse set of cell-surface receptors involved in a variety of cell-signalling tasks. It consists of seven transmembrane domains, connected by three intracellular and three extracellular loops, of which the extracellular loops form the ligand-binding domain."
   ]
  },
  {
   "cell_type": "code",
   "execution_count": 5,
   "id": "3b7595cf-3aac-422e-93b4-52f77c14bfd0",
   "metadata": {},
   "outputs": [],
   "source": [
    "import subprocess\n",
    "from pathlib import Path\n",
    "from typing import Iterator\n",
    "\n",
    "import matplotlib.pyplot as plt\n",
    "import pandas as pd\n",
    "import seaborn as sns\n",
    "import srsly"
   ]
  },
  {
   "cell_type": "code",
   "execution_count": 2,
   "id": "9845f9ef-8dd5-42dc-bac6-cf2fe820195a",
   "metadata": {},
   "outputs": [],
   "source": [
    "DATA_DIR = 'data/random_split/'\n",
    "\n",
    "directory = Path(DATA_DIR)\n",
    "files = directory.glob('*.jsonl')"
   ]
  },
  {
   "cell_type": "code",
   "execution_count": 3,
   "id": "0e1114c5-fcad-4767-a9ac-c41d8cccb402",
   "metadata": {},
   "outputs": [],
   "source": [
    "# get each split - not load into memory yet\n",
    "splits = dict()\n",
    "for file in files:\n",
    "    lines = srsly.read_jsonl(file)\n",
    "    splits[file.stem] = lines"
   ]
  },
  {
   "cell_type": "code",
   "execution_count": 4,
   "id": "27075a57-244c-4f4c-bda8-58b7425c3d20",
   "metadata": {},
   "outputs": [],
   "source": [
    "# to simplify analysis across splits I use an extended version of a pandas DataFrame object\n",
    "class SplitSummary(pd.DataFrame):\n",
    "    def __init__(self, *args, **kwargs):\n",
    "        super(SplitSummary, self).__init__(*args, **kwargs)\n",
    "    \n",
    "    @property\n",
    "    def n_sequences(self) -> int:\n",
    "        n_seq, _ = self.shape\n",
    "        return n_seq\n",
    "    \n",
    "    @property\n",
    "    def n_families(self) -> int:\n",
    "        out = self.family_id.nunique()\n",
    "        return out\n",
    "    \n",
    "    def family_abundances(self) -> pd.Series:\n",
    "        out = self.groupby('family_id').size()\n",
    "        return out\n",
    "    \n",
    "    def sequence_lengths(self) -> pd.Series:\n",
    "        out = self.sequence.str.len()\n",
    "        return out\n",
    "    \n",
    "    def aligned_sequence_lengths(self) -> pd.Series:\n",
    "        out = self.aligned_sequence.str.len()\n",
    "        return out\n",
    "    \n",
    "    def vocabulary(self) -> set:\n",
    "        out = set()\n",
    "        for seq in self.sequence:\n",
    "            out |= set(seq)\n",
    "        return out"
   ]
  },
  {
   "cell_type": "markdown",
   "id": "c8e2019d-43a9-45f1-8e0f-6a64cd3a8ced",
   "metadata": {},
   "source": [
    "As a first step, let's see how many examples (amino acid seqences) and how many classes (unique family IDs) we have in total. Please be sure to have `jq` installed on your machine and available on your `PATH`.\n",
    "I handle this part in the shell, so that we can work statelessly for now and avoid loading the data and concatenating the dataframes."
   ]
  },
  {
   "cell_type": "code",
   "execution_count": 19,
   "id": "6979a5f8-8325-4baa-a512-b131b3aae5a8",
   "metadata": {},
   "outputs": [
    {
     "name": "stdout",
     "output_type": "stream",
     "text": [
      "number of sequences: 1339083\n",
      "number of family ids: 17929\n"
     ]
    }
   ],
   "source": [
    "# let's be lazy about loading data\n",
    "_out = subprocess.run(f'cat {DATA_DIR}/*.jsonl | wc -l', shell=True, capture_output=True)\n",
    "_fam = subprocess.run(f'cat {DATA_DIR}/*.jsonl | jq -R -r \". | fromjson | .family_id\" | sort | uniq | wc -l', shell=True, capture_output=True)\n",
    "\n",
    "total_number_of_sequences = int(_out.stdout)\n",
    "total_number_of_unique_family_ids = int(_fam.stdout)\n",
    "\n",
    "print(f'number of sequences: {total_number_of_sequences}')\n",
    "print(f'number of family ids: {total_number_of_unique_family_ids}')"
   ]
  },
  {
   "cell_type": "markdown",
   "id": "41905d26-3060-4a08-af84-4bca7d73dc4d",
   "metadata": {},
   "source": [
    "From this we can see that the numbers correspond with what we saw online: about 1 million examples, with about 18k classes. Next, let's investigate the distribution of examples across classes. While we could still work in the shell for this (using `jq`) I will pull the data into the notebook now."
   ]
  },
  {
   "cell_type": "code",
   "execution_count": null,
   "id": "747a755a-87d8-42c1-8545-8cea45975141",
   "metadata": {},
   "outputs": [],
   "source": []
  }
 ],
 "metadata": {
  "kernelspec": {
   "display_name": "Python 3 (ipykernel)",
   "language": "python",
   "name": "python3"
  },
  "language_info": {
   "codemirror_mode": {
    "name": "ipython",
    "version": 3
   },
   "file_extension": ".py",
   "mimetype": "text/x-python",
   "name": "python",
   "nbconvert_exporter": "python",
   "pygments_lexer": "ipython3",
   "version": "3.9.9"
  }
 },
 "nbformat": 4,
 "nbformat_minor": 5
}
